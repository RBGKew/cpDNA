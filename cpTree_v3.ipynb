{
 "cells": [
  {
   "cell_type": "code",
   "execution_count": 1,
   "id": "shared-brighton",
   "metadata": {},
   "outputs": [],
   "source": [
    "import pandas as pd\n",
    "import os"
   ]
  },
  {
   "cell_type": "code",
   "execution_count": 2,
   "id": "geological-alias",
   "metadata": {},
   "outputs": [],
   "source": [
    "project='cpTree_v3'"
   ]
  },
  {
   "cell_type": "code",
   "execution_count": 3,
   "id": "handled-bulgarian",
   "metadata": {},
   "outputs": [
    {
     "name": "stdout",
     "output_type": "stream",
     "text": [
      "PAFTOL: 8125 < 7890 > 7530\n",
      "SRA: 1298 < 1538 > 1226\n",
      "GAP: 1455 < 740 > 740\n",
      "1KP: 744 < 744 > 744\n",
      "Li et al: 942 < 935 > 942\n",
      "RefSeq: 5176 < 5176 > 5176\n",
      "INSDC: 2916 < 2916 > 2916\n",
      "Root (Gymnosperms): 10 < 11 > 10\n"
     ]
    }
   ],
   "source": [
    "### List all samples for the tree\n",
    "# Load paftol_pt\n",
    "paftol_pt = pd.read_csv('../Organelles/PAFTOL/PAFTOL_Organelle_Recovery.csv').rename(columns={'Order':'order',\n",
    "                                            'Family':'family','Genus':'genus','Sum_len_pt':'length'})\n",
    "paftol_pt['species'] = paftol_pt.sci_name.str.split(' ').str[1:].str.join(' ')\n",
    "print('PAFTOL:',paftol_pt.shape[0],end=' < ')\n",
    "paftol_ls = [file.replace('_pt.fasta','') for file in os.listdir('../Organelles/PAFTOL/fasta_pt/') if file.endswith('.fasta')]\n",
    "paftol_pt = paftol_pt[paftol_pt.Sample_Name.isin(paftol_ls)]\n",
    "paftol_pt['DataSource']='PAFTOL'\n",
    "print(len(paftol_ls), '>',paftol_pt.shape[0])\n",
    "\n",
    "# Load sra_pt\n",
    "sra_pt = pd.read_csv('../Organelles/SRA/SRA_Organelle_Recovery.csv').rename(columns={'Sum_len_pt':'length'})\n",
    "sra_pt['species'] = sra_pt.sci_name.str.split(' ').str[1:].str.join(' ')\n",
    "print('SRA:',sra_pt.shape[0],end=' < ')\n",
    "SRA_ls = [file.replace('_pt.fasta','') for file in os.listdir('../Organelles/SRA/fasta_pt/') if file.endswith('.fasta')]\n",
    "sra_pt = sra_pt[sra_pt.Sample_Name.isin(SRA_ls)]\n",
    "sra_pt['DataSource']='SRA'\n",
    "print(len(SRA_ls), '>',sra_pt.shape[0])\n",
    "\n",
    "# Load gap_pt\n",
    "gap_pt = pd.read_csv('../Organelles/GAP/GAP_Organelle_Recovery.csv').rename(columns={'Sum_len_pt':'length'})\n",
    "gap_pt['species'] = gap_pt.sci_name.str.split(' ').str[1:].str.join(' ')\n",
    "print('GAP:',gap_pt.shape[0],end=' < ')\n",
    "GAP_ls = [file.replace('_pt.fasta','') for file in os.listdir('../Organelles/GAP/fasta_pt/') if file.endswith('.fasta')]\n",
    "gap_pt = gap_pt[gap_pt.Sample_Name.isin(GAP_ls)]\n",
    "gap_pt['DataSource']='GAP'\n",
    "print(len(GAP_ls), '>',gap_pt.shape[0])\n",
    "\n",
    "# Load 1kp_pt\n",
    "okp_pt = pd.read_csv('1KP/okp_pt.csv').rename(columns={'Sample':'Sample_Name',\"('len', 'sum_len')\":'length'})\n",
    "okp_pt['species'] = okp_pt.sci_name.str.split(' ').str[1:].str.join(' ')\n",
    "print('1KP:',okp_pt.shape[0],end=' < ')\n",
    "okp_ls = [file.replace('_CPgenes.fasta','') for file in os.listdir('1KP/1kp_fasta_pt/') if file.endswith('.fasta')]\n",
    "okp_pt = okp_pt[okp_pt.Sample_Name.isin(okp_ls)]\n",
    "okp_pt['DataSource']='OneKP'\n",
    "print(len(okp_ls), '>',okp_pt.shape[0])\n",
    "\n",
    "# Load Li et al\n",
    "Lietal_pt = pd.read_csv('Li_et_al/Lietal_PPA_fasta_wcvp.csv').rename(columns={'Sample':'Sample_Name'})\n",
    "print('Li et al:',Lietal_pt.shape[0],end=' < ')\n",
    "lietal_ls = [file.replace('_CPgenes.fasta','') for file in os.listdir('Li_et_al/Lietal_PPA/') if file.endswith('.fasta')]\n",
    "Lietal_pt = Lietal_pt[Lietal_pt.Sample_Name.isin(lietal_ls)]\n",
    "Lietal_pt['DataSource']='Lietal'; Lietal_pt['length']=0\n",
    "print(len(lietal_ls), '>',Lietal_pt.shape[0])\n",
    "\n",
    "# Load NCBI refseq\n",
    "refseq_pt = pd.read_csv('NCBI/RefSeq/refseq_sp.csv').rename(columns={'SeqID':'Sample_Name'})\n",
    "print('RefSeq:',refseq_pt.shape[0],end=' < ')\n",
    "refseq_ls = [file.replace('_pt.fasta','') for file in os.listdir('NCBI/RefSeq/Refseq_fasta_pt/') if file.endswith('.fasta')]\n",
    "refseq_pt = refseq_pt[refseq_pt.Sample_Name.isin(refseq_ls)]\n",
    "refseq_pt['DataSource']='REFSEQ'\n",
    "print(len(refseq_ls), '>',refseq_pt.shape[0])\n",
    "\n",
    "# Load NCBI INSDC (other plastomes, partial)\n",
    "insdc_pt = pd.read_csv('NCBI/INSDC/insdc_sp.csv').rename(columns={'SeqID':'Sample_Name'})\n",
    "print('INSDC:',insdc_pt.shape[0],end=' < ')\n",
    "insdc_ls = [file.replace('_pt.fasta','') for file in os.listdir('NCBI/INSDC/INSDC_fasta_pt/') if file.endswith('.fasta')]\n",
    "insdc_pt = insdc_pt[insdc_pt.Sample_Name.isin(insdc_ls)]\n",
    "insdc_pt['DataSource']='INSDC'\n",
    "print(len(insdc_ls), '>',insdc_pt.shape[0])\n",
    "\n",
    "# List gymno\n",
    "gymno_pt = pd.read_csv('NCBI/Gymnosperms/Gymnosperms_raw_SeqID.csv').rename(columns={'SeqID':'Sample_Name'})\n",
    "gymno_pt['genus'] = gymno_pt.sci_name.str.split(' ').str[0]\n",
    "gymno_pt['species'] = gymno_pt.sci_name.str.split(' ').str[1:].str.join(' ')\n",
    "print('Root (Gymnosperms):',gymno_pt.shape[0],end=' < ')\n",
    "gymno_ls = [file.replace('_pt.fasta','') for file in os.listdir('NCBI/Gymnosperms/') if file.endswith('.fasta')]\n",
    "gymno_pt = gymno_pt[gymno_pt.Sample_Name.isin(gymno_ls)]\n",
    "gymno_pt['DataSource']='Gymno'\n",
    "print(len(gymno_ls), '>',gymno_pt.shape[0])"
   ]
  },
  {
   "cell_type": "code",
   "execution_count": 9,
   "id": "quantitative-fairy",
   "metadata": {},
   "outputs": [],
   "source": [
    "col_keep=['Sample_Name','family','genus','species','sci_name','DataSource','length']\n",
    "pd.concat([ paftol_pt[col_keep], sra_pt[col_keep], gap_pt[col_keep], okp_pt[col_keep], Lietal_pt[col_keep],\n",
    "                    refseq_pt[col_keep], insdc_pt[col_keep], gymno_pt[col_keep]], ignore_index=True)\\\n",
    "    .to_csv(project + '/AllSamples_' + project + '.csv',index=False)"
   ]
  },
  {
   "cell_type": "code",
   "execution_count": 7,
   "id": "spare-clone",
   "metadata": {},
   "outputs": [
    {
     "name": "stdout",
     "output_type": "stream",
     "text": [
      "{1: 1313, 2: 288, 3: 422}\n",
      "{1: 1133, 2: 311, 3: 579}\n"
     ]
    }
   ],
   "source": [
    "# Reduce public accessions to one by species, 3 per genus, with priority to Refseq\n",
    "NCBI_pt = refseq_pt.groupby('sci_name').head(1).groupby('genus').head(3)\n",
    "NCBI_genus = NCBI_pt.groupby('genus').genus.count().to_frame().rename(columns={'genus':'N'}).reset_index()\n",
    "print(NCBI_genus.groupby('N').size().to_dict())\n",
    "NCBI_pt = pd.concat([NCBI_pt,\n",
    "        insdc_pt[(insdc_pt.Sample_Name.isin(NCBI_pt.Sample_Name)==False) & (insdc_pt.genus.isin(NCBI_genus[NCBI_genus.N<3].genus))] ])\n",
    "NCBI_pt = NCBI_pt.groupby('sci_name').head(1).groupby('genus').head(3)\n",
    "NCBI_genus = NCBI_pt.groupby('genus').genus.count().to_frame().rename(columns={'genus':'N'}).reset_index()\n",
    "print(NCBI_genus.groupby('N').size().to_dict())"
   ]
  },
  {
   "cell_type": "code",
   "execution_count": 8,
   "id": "norwegian-smith",
   "metadata": {},
   "outputs": [
    {
     "name": "stdout",
     "output_type": "stream",
     "text": [
      "14685 s: 12080 g: 7855\n"
     ]
    }
   ],
   "source": [
    "# Merge lists of samples\n",
    "col_keep=['Sample_Name','genus','species','sci_name','DataSource','length']\n",
    "all_pt = pd.concat([ paftol_pt[col_keep], sra_pt[col_keep], gap_pt[col_keep], okp_pt[col_keep], Lietal_pt[col_keep],\n",
    "                    NCBI_pt[col_keep], gymno_pt[col_keep]], ignore_index=True)\n",
    "print(all_pt.shape[0],'s:',all_pt.sci_name.nunique(),'g:',all_pt.genus.nunique())"
   ]
  },
  {
   "cell_type": "code",
   "execution_count": 9,
   "id": "crazy-medline",
   "metadata": {},
   "outputs": [
    {
     "name": "stdout",
     "output_type": "stream",
     "text": [
      "20 o: 8 f: 9 g: 17 s: 20\n"
     ]
    },
    {
     "data": {
      "text/html": [
       "<div>\n",
       "<style scoped>\n",
       "    .dataframe tbody tr th:only-of-type {\n",
       "        vertical-align: middle;\n",
       "    }\n",
       "\n",
       "    .dataframe tbody tr th {\n",
       "        vertical-align: top;\n",
       "    }\n",
       "\n",
       "    .dataframe thead th {\n",
       "        text-align: right;\n",
       "    }\n",
       "</style>\n",
       "<table border=\"1\" class=\"dataframe\">\n",
       "  <thead>\n",
       "    <tr style=\"text-align: right;\">\n",
       "      <th></th>\n",
       "      <th>order</th>\n",
       "      <th>family</th>\n",
       "      <th>Sample_Name</th>\n",
       "      <th>TaxID</th>\n",
       "      <th>mol_type</th>\n",
       "      <th>genus</th>\n",
       "      <th>species</th>\n",
       "      <th>sci_name</th>\n",
       "      <th>DataSource</th>\n",
       "      <th>length</th>\n",
       "    </tr>\n",
       "  </thead>\n",
       "  <tbody>\n",
       "    <tr>\n",
       "      <th>0</th>\n",
       "      <td>Cycadales</td>\n",
       "      <td>Cycadaceae</td>\n",
       "      <td>XZUY</td>\n",
       "      <td>NaN</td>\n",
       "      <td>NaN</td>\n",
       "      <td>Cycas</td>\n",
       "      <td>micholitzii</td>\n",
       "      <td>Cycas micholitzii</td>\n",
       "      <td>OneKP</td>\n",
       "      <td>36702.0</td>\n",
       "    </tr>\n",
       "    <tr>\n",
       "      <th>1</th>\n",
       "      <td>Ginkgoales</td>\n",
       "      <td>Ginkgoaceae</td>\n",
       "      <td>SGTW</td>\n",
       "      <td>NaN</td>\n",
       "      <td>NaN</td>\n",
       "      <td>Ginkgo</td>\n",
       "      <td>biloba</td>\n",
       "      <td>Ginkgo biloba</td>\n",
       "      <td>OneKP</td>\n",
       "      <td>36327.0</td>\n",
       "    </tr>\n",
       "  </tbody>\n",
       "</table>\n",
       "</div>"
      ],
      "text/plain": [
       "        order       family Sample_Name  TaxID mol_type   genus      species  \\\n",
       "0   Cycadales   Cycadaceae        XZUY    NaN      NaN   Cycas  micholitzii   \n",
       "1  Ginkgoales  Ginkgoaceae        SGTW    NaN      NaN  Ginkgo       biloba   \n",
       "\n",
       "            sci_name DataSource   length  \n",
       "0  Cycas micholitzii      OneKP  36702.0  \n",
       "1      Ginkgo biloba      OneKP  36327.0  "
      ]
     },
     "execution_count": 9,
     "metadata": {},
     "output_type": "execute_result"
    }
   ],
   "source": [
    "# Define root samples\n",
    "root_1kp = pd.read_table('../Phylogenetic_Tree/Release_1.0/OneKP_root.txt',sep=' ',header=None).rename(columns={\n",
    "    0:'order',1:'family',2:'genus',3:'species',4:'Sample_Name'})\n",
    "root = pd.concat([root_1kp,gymno_pt]).drop(columns=['genus','species','sci_name','DataSource','length'])\n",
    "root = pd.merge(root,all_pt,on='Sample_Name',how='inner')\n",
    "print(root.shape[0], 'o:',root.order.nunique(),'f:',root.family.nunique(),'g:',root.genus.nunique(),'s:',root.sci_name.nunique())\n",
    "root[:2]"
   ]
  },
  {
   "cell_type": "code",
   "execution_count": 10,
   "id": "changed-frequency",
   "metadata": {},
   "outputs": [
    {
     "name": "stdout",
     "output_type": "stream",
     "text": [
      "{'Incertae Sedis': 23, 'Plantae': 6, 'angiosperms': 130, 'asterids': 839, 'campanulids': 1659, 'core eudicots': 23, 'eudicots': 377, 'fabids': 1597, 'lamiids': 1774, 'magnoliids': 384, 'malvids': 2265, 'monocots': 3069, 'rosids': 1206, 'superasterids': 987, 'superrosids': 197}\n"
     ]
    }
   ],
   "source": [
    "# Add class, order and genus info from WCVP\n",
    "wcvp = pd.read_csv('../PAFTOL_DB/wcvp_genus.csv'); wcvp.columns = map(str.lower, wcvp.columns)\n",
    "wcvp = wcvp.sort_values('nentries',ascending=False).groupby('genus').head(1).sort_values('genus')\n",
    "all_pt = pd.merge(all_pt,wcvp,how='inner',on='genus')\n",
    "print(all_pt.groupby('class').size().to_dict())\n",
    "all_pt = pd.concat([ all_pt, root ])"
   ]
  },
  {
   "cell_type": "code",
   "execution_count": 11,
   "id": "destroyed-battle",
   "metadata": {},
   "outputs": [
    {
     "name": "stdout",
     "output_type": "stream",
     "text": [
      "o: 73 f: 425 g: 7762 s: 11958\n",
      "{'GAP': 737, 'Gymno': 10, 'INSDC': 337, 'Lietal': 942, 'OneKP': 677, 'PAFTOL': 7484, 'REFSEQ': 3148, 'SRA': 1221}\n",
      "{'Sample_Name': 0, 'genus': 0, 'species': 54, 'sci_name': 9, 'DataSource': 0, 'length': 0, 'order': 0, 'class': 20, 'family': 0, 'nentries': 20, 'TaxID': 14546, 'mol_type': 14546}\n",
      "14556 > 14542 > 14488\n",
      "{'Sample_Name': 0, 'genus': 0, 'species': 0, 'sci_name': 0, 'DataSource': 0, 'length': 0, 'order': 0, 'class': 20, 'family': 0, 'nentries': 20, 'TaxID': 14478, 'mol_type': 14478}\n",
      "{'GAP': 737, 'Gymno': 10, 'INSDC': 329, 'Lietal': 904, 'OneKP': 677, 'PAFTOL': 7475, 'REFSEQ': 3141, 'SRA': 1215}\n",
      "o: 73 f: 425 g: 7759 s: 11917\n"
     ]
    }
   ],
   "source": [
    "print('o:',all_pt.order.nunique(),'f:',all_pt.family.nunique(),'g:',all_pt.genus.nunique(),'s:',all_pt.sci_name.nunique())\n",
    "print(all_pt.groupby('DataSource').size().to_dict())\n",
    "print(all_pt.isna().sum().to_dict())\n",
    "print(all_pt.shape[0],end=' > ')\n",
    "all_pt = all_pt.groupby('Sample_Name').head(1) # Make sure IDs are unique\n",
    "print(all_pt.shape[0],end=' > ')\n",
    "# all_pt = all_pt[(all_pt.order.notnull()) & (all_pt.family.notnull()) & (all_pt.genus!='NILL')\n",
    "#                & (all_pt.species.notnull()) & (all_pt.sci_name.str.contains(' sp.',regex=False)==False)]\n",
    "all_pt = all_pt[(all_pt.order.notnull()) & (all_pt.family.notnull()) & (all_pt.genus!='NILL')\n",
    "               & (all_pt.species.notnull())]\n",
    "print(all_pt.shape[0])\n",
    "print(all_pt.isna().sum().to_dict())\n",
    "print(all_pt.groupby('DataSource').size().to_dict())\n",
    "all_pt = all_pt.sort_values(['DataSource','order','family','genus']).reset_index(drop=True)\n",
    "print('o:',all_pt.order.nunique(),'f:',all_pt.family.nunique(),'g:',all_pt.genus.nunique(),'s:',all_pt.sci_name.nunique())"
   ]
  },
  {
   "cell_type": "code",
   "execution_count": 12,
   "id": "complete-lyric",
   "metadata": {},
   "outputs": [
    {
     "name": "stdout",
     "output_type": "stream",
     "text": [
      "{'Sample_Name': 0, 'genus': 0, 'species': 0, 'sci_name': 0, 'DataSource': 0, 'length': 0, 'order': 0, 'class': 20, 'family': 0, 'nentries': 20, 'TaxID': 14478, 'mol_type': 14478, 'Label': 0}\n"
     ]
    }
   ],
   "source": [
    "# Make list and labels\n",
    "# all_pt['Label'] = all_pt.order + '_' + all_pt.family + '_' + all_pt.genus + '_' + all_pt.species.str.replace(' ','-') + '_' \\\n",
    "#      + (all_pt.length/1000).round(0).astype(int).astype('str') + 'kb_' + all_pt.Sample_Name.str.replace('_','')  + \\\n",
    "#     '_' + all_pt.DataSource.str[:6]\n",
    "all_pt['Label'] = all_pt.order + '_' + all_pt.family + '_' + all_pt.genus + '_' + all_pt.species.str.replace(' ','-') + '_' \\\n",
    "     + all_pt.Sample_Name.str.replace('_','')\n",
    "all_pt.Label=all_pt.Label.str.replace(' ','')#.str.replace('.','_')\n",
    "print(all_pt.isna().sum().to_dict())\n",
    "all_pt.to_csv(project + '/' + project + '.csv',index=False)\n",
    "all_pt[['Sample_Name','Label']].to_csv(project + '/' + project + '_labels.txt',index=False,header=None,sep=' ')"
   ]
  },
  {
   "cell_type": "code",
   "execution_count": 13,
   "id": "greenhouse-ethernet",
   "metadata": {},
   "outputs": [
    {
     "name": "stdout",
     "output_type": "stream",
     "text": [
      "65 / 65 orders\n",
      "416 / 418 families\n",
      "missing families: ['Euphroniaceae' 'Mitrastemonaceae']\n",
      "7742 / 13543 genera\n"
     ]
    }
   ],
   "source": [
    "# wcvp = wcvp[wcvp['class']=='Magnoliopsida']\n",
    "print(wcvp[wcvp.order.isin(all_pt.order)].order.nunique(),'/',wcvp.order.nunique(),'orders')\n",
    "print(wcvp[wcvp.family.isin(all_pt.family)].family.nunique(),'/',wcvp.family.nunique(),'families')\n",
    "print('missing families:',wcvp[wcvp.family.isin(all_pt.family)==False].family.unique())\n",
    "print(wcvp[wcvp.genus.isin(all_pt.genus)].genus.nunique(),'/',wcvp.genus.nunique(),'genera')"
   ]
  },
  {
   "cell_type": "markdown",
   "id": "vocal-editing",
   "metadata": {},
   "source": [
    "## Validation"
   ]
  },
  {
   "cell_type": "code",
   "execution_count": 6,
   "id": "corporate-scope",
   "metadata": {},
   "outputs": [],
   "source": [
    "import pandas as pd\n",
    "import numpy as np\n",
    "from ete3 import Tree, NodeStyle, TreeStyle, TextFace, AttrFace, faces\n",
    "import warnings; warnings.filterwarnings('ignore')\n",
    "import os"
   ]
  },
  {
   "cell_type": "code",
   "execution_count": 5,
   "id": "essential-somalia",
   "metadata": {},
   "outputs": [],
   "source": [
    "def Treetaxo(df):\n",
    "    print('N:',df.shape[0],'o:',df.order.nunique(),'f:',df.family.nunique(),'g:',df.genus.nunique())"
   ]
  },
  {
   "cell_type": "code",
   "execution_count": 19,
   "id": "composite-reason",
   "metadata": {},
   "outputs": [
    {
     "name": "stdout",
     "output_type": "stream",
     "text": [
      "14488\n"
     ]
    },
    {
     "data": {
      "text/html": [
       "<div>\n",
       "<style scoped>\n",
       "    .dataframe tbody tr th:only-of-type {\n",
       "        vertical-align: middle;\n",
       "    }\n",
       "\n",
       "    .dataframe tbody tr th {\n",
       "        vertical-align: top;\n",
       "    }\n",
       "\n",
       "    .dataframe thead th {\n",
       "        text-align: right;\n",
       "    }\n",
       "</style>\n",
       "<table border=\"1\" class=\"dataframe\">\n",
       "  <thead>\n",
       "    <tr style=\"text-align: right;\">\n",
       "      <th></th>\n",
       "      <th>Sample</th>\n",
       "      <th>genus</th>\n",
       "      <th>species</th>\n",
       "      <th>sci_name</th>\n",
       "      <th>DataSource</th>\n",
       "      <th>length</th>\n",
       "      <th>order</th>\n",
       "      <th>class</th>\n",
       "      <th>family</th>\n",
       "      <th>Label</th>\n",
       "    </tr>\n",
       "  </thead>\n",
       "  <tbody>\n",
       "    <tr>\n",
       "      <th>0</th>\n",
       "      <td>GAP_026547</td>\n",
       "      <td>Albidella</td>\n",
       "      <td>oligococca</td>\n",
       "      <td>Albidella oligococca</td>\n",
       "      <td>GAP</td>\n",
       "      <td>59917</td>\n",
       "      <td>Alismatales</td>\n",
       "      <td>monocots</td>\n",
       "      <td>Alismataceae</td>\n",
       "      <td>Alismatales_Alismataceae_Albidella_oligococca_...</td>\n",
       "    </tr>\n",
       "    <tr>\n",
       "      <th>1</th>\n",
       "      <td>GAP_028289</td>\n",
       "      <td>Astonia</td>\n",
       "      <td>australiensis</td>\n",
       "      <td>Astonia australiensis</td>\n",
       "      <td>GAP</td>\n",
       "      <td>8956</td>\n",
       "      <td>Alismatales</td>\n",
       "      <td>monocots</td>\n",
       "      <td>Alismataceae</td>\n",
       "      <td>Alismatales_Alismataceae_Astonia_australiensis...</td>\n",
       "    </tr>\n",
       "  </tbody>\n",
       "</table>\n",
       "</div>"
      ],
      "text/plain": [
       "       Sample      genus        species               sci_name DataSource  \\\n",
       "0  GAP_026547  Albidella     oligococca   Albidella oligococca        GAP   \n",
       "1  GAP_028289    Astonia  australiensis  Astonia australiensis        GAP   \n",
       "\n",
       "   length        order     class        family  \\\n",
       "0   59917  Alismatales  monocots  Alismataceae   \n",
       "1    8956  Alismatales  monocots  Alismataceae   \n",
       "\n",
       "                                               Label  \n",
       "0  Alismatales_Alismataceae_Albidella_oligococca_...  \n",
       "1  Alismatales_Alismataceae_Astonia_australiensis...  "
      ]
     },
     "execution_count": 19,
     "metadata": {},
     "output_type": "execute_result"
    }
   ],
   "source": [
    "Release_df = pd.read_csv(project + '/' + project + '.csv').rename(columns={'Sample_Name':'Sample'})\n",
    "print(Release_df.shape[0])\n",
    "Release_df[:2]"
   ]
  },
  {
   "cell_type": "code",
   "execution_count": 20,
   "id": "immediate-applicant",
   "metadata": {},
   "outputs": [
    {
     "name": "stdout",
     "output_type": "stream",
     "text": [
      "8330\n",
      "Phylogenetic Validation: {'Confirmed': 8162, 'Inconclusive': 56, 'Rejected': 112}\n"
     ]
    },
    {
     "data": {
      "text/html": [
       "<div>\n",
       "<style scoped>\n",
       "    .dataframe tbody tr th:only-of-type {\n",
       "        vertical-align: middle;\n",
       "    }\n",
       "\n",
       "    .dataframe tbody tr th {\n",
       "        vertical-align: top;\n",
       "    }\n",
       "\n",
       "    .dataframe thead th {\n",
       "        text-align: right;\n",
       "    }\n",
       "</style>\n",
       "<table border=\"1\" class=\"dataframe\">\n",
       "  <thead>\n",
       "    <tr style=\"text-align: right;\">\n",
       "      <th></th>\n",
       "      <th>Tidx</th>\n",
       "      <th>Label</th>\n",
       "      <th>order</th>\n",
       "      <th>family</th>\n",
       "      <th>genus</th>\n",
       "      <th>species</th>\n",
       "      <th>Sample</th>\n",
       "      <th>Phylogenetic_Validation</th>\n",
       "    </tr>\n",
       "  </thead>\n",
       "  <tbody>\n",
       "    <tr>\n",
       "      <th>0</th>\n",
       "      <td>0</td>\n",
       "      <td>Apiales_Araliaceae_Motherwellia_haplosciadea_G...</td>\n",
       "      <td>Apiales</td>\n",
       "      <td>Araliaceae</td>\n",
       "      <td>Motherwellia</td>\n",
       "      <td>haplosciadea</td>\n",
       "      <td>GAP022353</td>\n",
       "      <td>Inconclusive</td>\n",
       "    </tr>\n",
       "    <tr>\n",
       "      <th>1</th>\n",
       "      <td>1</td>\n",
       "      <td>Apiales_Pittosporaceae_Auranticarpa_rhombifoli...</td>\n",
       "      <td>Apiales</td>\n",
       "      <td>Pittosporaceae</td>\n",
       "      <td>Auranticarpa</td>\n",
       "      <td>rhombifolia</td>\n",
       "      <td>GAP026913</td>\n",
       "      <td>Confirmed</td>\n",
       "    </tr>\n",
       "  </tbody>\n",
       "</table>\n",
       "</div>"
      ],
      "text/plain": [
       "   Tidx                                              Label    order  \\\n",
       "0     0  Apiales_Araliaceae_Motherwellia_haplosciadea_G...  Apiales   \n",
       "1     1  Apiales_Pittosporaceae_Auranticarpa_rhombifoli...  Apiales   \n",
       "\n",
       "           family         genus       species     Sample  \\\n",
       "0      Araliaceae  Motherwellia  haplosciadea  GAP022353   \n",
       "1  Pittosporaceae  Auranticarpa   rhombifolia  GAP026913   \n",
       "\n",
       "  Phylogenetic_Validation  \n",
       "0            Inconclusive  \n",
       "1               Confirmed  "
      ]
     },
     "execution_count": 20,
     "metadata": {},
     "output_type": "execute_result"
    }
   ],
   "source": [
    "PV = pd.read_csv(project + '/' + project + '_0.2_iqtree_labelled_table.csv').reset_index().rename(columns={\n",
    "    'index':'Tidx','label':'Label'})\n",
    "# PV['Sample'] = PV['Sample'].str.replace('GAP','GAP_').str.replace('PAFTOL','PAFTOL_').str.replace('NC','NC_').str.replace('AC','AC_')\n",
    "print(PV.shape[0])\n",
    "print('Phylogenetic Validation:',PV.groupby('Phylogenetic_Validation').size().to_dict())\n",
    "PV[:2]"
   ]
  },
  {
   "cell_type": "code",
   "execution_count": 21,
   "id": "documentary-observer",
   "metadata": {},
   "outputs": [
    {
     "name": "stdout",
     "output_type": "stream",
     "text": [
      "14478\n",
      "Barcode Validation: {'Confirmed': 12599, 'Inconclusive': 1447, 'Rejected': 432}\n"
     ]
    },
    {
     "data": {
      "text/html": [
       "<div>\n",
       "<style scoped>\n",
       "    .dataframe tbody tr th:only-of-type {\n",
       "        vertical-align: middle;\n",
       "    }\n",
       "\n",
       "    .dataframe tbody tr th {\n",
       "        vertical-align: top;\n",
       "    }\n",
       "\n",
       "    .dataframe thead th {\n",
       "        text-align: right;\n",
       "    }\n",
       "</style>\n",
       "<table border=\"1\" class=\"dataframe\">\n",
       "  <thead>\n",
       "    <tr style=\"text-align: right;\">\n",
       "      <th></th>\n",
       "      <th>Sample</th>\n",
       "      <th>genus</th>\n",
       "      <th>species</th>\n",
       "      <th>sci_name</th>\n",
       "      <th>DataSource</th>\n",
       "      <th>length</th>\n",
       "      <th>order</th>\n",
       "      <th>class</th>\n",
       "      <th>family</th>\n",
       "      <th>Label</th>\n",
       "      <th>...</th>\n",
       "      <th>VATfam</th>\n",
       "      <th>VATgen</th>\n",
       "      <th>Vfam_pc</th>\n",
       "      <th>Vgen_pc</th>\n",
       "      <th>best matching family</th>\n",
       "      <th>N best family</th>\n",
       "      <th>best matching genus</th>\n",
       "      <th>N best genus</th>\n",
       "      <th>Validation</th>\n",
       "      <th>Validation_genus</th>\n",
       "    </tr>\n",
       "  </thead>\n",
       "  <tbody>\n",
       "    <tr>\n",
       "      <th>0</th>\n",
       "      <td>GAP_026547</td>\n",
       "      <td>Albidella</td>\n",
       "      <td>oligococca</td>\n",
       "      <td>Albidella oligococca</td>\n",
       "      <td>GAP</td>\n",
       "      <td>59917</td>\n",
       "      <td>Alismatales</td>\n",
       "      <td>monocots</td>\n",
       "      <td>Alismataceae</td>\n",
       "      <td>Alismatales_Alismataceae_Albidella_oligococca_...</td>\n",
       "      <td>...</td>\n",
       "      <td>5</td>\n",
       "      <td>1</td>\n",
       "      <td>83.0</td>\n",
       "      <td>50.0</td>\n",
       "      <td>Butomaceae</td>\n",
       "      <td>1</td>\n",
       "      <td>Ranalisma</td>\n",
       "      <td>1.0</td>\n",
       "      <td>Confirmed</td>\n",
       "      <td>Confirmed</td>\n",
       "    </tr>\n",
       "    <tr>\n",
       "      <th>1</th>\n",
       "      <td>GAP_028289</td>\n",
       "      <td>Astonia</td>\n",
       "      <td>australiensis</td>\n",
       "      <td>Astonia australiensis</td>\n",
       "      <td>GAP</td>\n",
       "      <td>8956</td>\n",
       "      <td>Alismatales</td>\n",
       "      <td>monocots</td>\n",
       "      <td>Alismataceae</td>\n",
       "      <td>Alismatales_Alismataceae_Astonia_australiensis...</td>\n",
       "      <td>...</td>\n",
       "      <td>1</td>\n",
       "      <td>0</td>\n",
       "      <td>100.0</td>\n",
       "      <td>NaN</td>\n",
       "      <td>NaN</td>\n",
       "      <td>0</td>\n",
       "      <td>NaN</td>\n",
       "      <td>NaN</td>\n",
       "      <td>Confirmed</td>\n",
       "      <td>Inconclusive</td>\n",
       "    </tr>\n",
       "  </tbody>\n",
       "</table>\n",
       "<p>2 rows × 22 columns</p>\n",
       "</div>"
      ],
      "text/plain": [
       "       Sample      genus        species               sci_name DataSource  \\\n",
       "0  GAP_026547  Albidella     oligococca   Albidella oligococca        GAP   \n",
       "1  GAP_028289    Astonia  australiensis  Astonia australiensis        GAP   \n",
       "\n",
       "   length        order     class        family  \\\n",
       "0   59917  Alismatales  monocots  Alismataceae   \n",
       "1    8956  Alismatales  monocots  Alismataceae   \n",
       "\n",
       "                                               Label  ...  VATfam  VATgen  \\\n",
       "0  Alismatales_Alismataceae_Albidella_oligococca_...  ...       5       1   \n",
       "1  Alismatales_Alismataceae_Astonia_australiensis...  ...       1       0   \n",
       "\n",
       "   Vfam_pc  Vgen_pc  best matching family  N best family best matching genus  \\\n",
       "0     83.0     50.0            Butomaceae              1           Ranalisma   \n",
       "1    100.0      NaN                   NaN              0                 NaN   \n",
       "\n",
       "   N best genus Validation  Validation_genus  \n",
       "0           1.0  Confirmed         Confirmed  \n",
       "1           NaN  Confirmed      Inconclusive  \n",
       "\n",
       "[2 rows x 22 columns]"
      ]
     },
     "execution_count": 21,
     "metadata": {},
     "output_type": "execute_result"
    }
   ],
   "source": [
    "BV = pd.read_excel(project + '/' + project + '_Barcode_Validation.xlsx',sheet_name='Validation_Results')\n",
    "print(BV.shape[0])\n",
    "print('Barcode Validation:',BV.groupby('Validation').size().to_dict())\n",
    "BV[:2]"
   ]
  },
  {
   "cell_type": "code",
   "execution_count": 22,
   "id": "suitable-english",
   "metadata": {},
   "outputs": [
    {
     "name": "stdout",
     "output_type": "stream",
     "text": [
      "8329\n"
     ]
    }
   ],
   "source": [
    "Release_df = pd.merge(left = Release_df, right = PV[['Label','Phylogenetic_Validation','Tidx']].rename(columns={\n",
    "    'Phylogenetic_Validation':'PhylogeneticValidation'}),\n",
    "                     how = 'inner', on = 'Label')\n",
    "Release_df = pd.merge(left = Release_df, right = BV[['Sample','Validation']].rename(columns={'Validation':'BarcodeValidation'}),\n",
    "                     how = 'left', on = 'Sample').sort_values('Tidx').reset_index(drop=True)\n",
    "print(Release_df.shape[0])"
   ]
  },
  {
   "cell_type": "code",
   "execution_count": 23,
   "id": "explicit-entry",
   "metadata": {},
   "outputs": [
    {
     "name": "stdout",
     "output_type": "stream",
     "text": [
      "{'Sample': 0, 'genus': 0, 'species': 0, 'sci_name': 0, 'DataSource': 0, 'length': 0, 'order': 0, 'class': 20, 'family': 0, 'Label': 0, 'PhylogeneticValidation': 0, 'Tidx': 0, 'BarcodeValidation': 10}\n",
      "      Tidx                                         Label       order  \\\n",
      "3071  3071  Sapindales_Rutaceae_Citrus_Ã—-aurantium_UHJR  Sapindales   \n",
      "\n",
      "        family   genus       species Sample Phylogenetic_Validation  \n",
      "3071  Rutaceae  Citrus  Ã—-aurantium   UHJR               Confirmed  \n"
     ]
    }
   ],
   "source": [
    "print(Release_df.isna().sum().to_dict())\n",
    "print(PV[PV.Label.isin(Release_df.Label)==False])"
   ]
  },
  {
   "cell_type": "code",
   "execution_count": 24,
   "id": "illegal-cleaners",
   "metadata": {},
   "outputs": [
    {
     "data": {
      "text/html": [
       "<div>\n",
       "<style scoped>\n",
       "    .dataframe tbody tr th:only-of-type {\n",
       "        vertical-align: middle;\n",
       "    }\n",
       "\n",
       "    .dataframe tbody tr th {\n",
       "        vertical-align: top;\n",
       "    }\n",
       "\n",
       "    .dataframe thead th {\n",
       "        text-align: right;\n",
       "    }\n",
       "</style>\n",
       "<table border=\"1\" class=\"dataframe\">\n",
       "  <thead>\n",
       "    <tr style=\"text-align: right;\">\n",
       "      <th>BarcodeValidation</th>\n",
       "      <th>Confirmed</th>\n",
       "      <th>Inconclusive</th>\n",
       "      <th>Rejected</th>\n",
       "    </tr>\n",
       "    <tr>\n",
       "      <th>PhylogeneticValidation</th>\n",
       "      <th></th>\n",
       "      <th></th>\n",
       "      <th></th>\n",
       "    </tr>\n",
       "  </thead>\n",
       "  <tbody>\n",
       "    <tr>\n",
       "      <th>Confirmed</th>\n",
       "      <td>8026</td>\n",
       "      <td>89</td>\n",
       "      <td>37</td>\n",
       "    </tr>\n",
       "    <tr>\n",
       "      <th>Inconclusive</th>\n",
       "      <td>50</td>\n",
       "      <td>2</td>\n",
       "      <td>3</td>\n",
       "    </tr>\n",
       "    <tr>\n",
       "      <th>Rejected</th>\n",
       "      <td>16</td>\n",
       "      <td>1</td>\n",
       "      <td>95</td>\n",
       "    </tr>\n",
       "  </tbody>\n",
       "</table>\n",
       "</div>"
      ],
      "text/plain": [
       "BarcodeValidation       Confirmed  Inconclusive  Rejected\n",
       "PhylogeneticValidation                                   \n",
       "Confirmed                    8026            89        37\n",
       "Inconclusive                   50             2         3\n",
       "Rejected                       16             1        95"
      ]
     },
     "execution_count": 24,
     "metadata": {},
     "output_type": "execute_result"
    }
   ],
   "source": [
    "Release_df['Decision']=np.nan\n",
    "Release_df.loc[(Release_df.PhylogeneticValidation=='Confirmed') & (Release_df.BarcodeValidation=='Confirmed'), \n",
    "           'Decision']='Include'\n",
    "Release_df.loc[(Release_df.PhylogeneticValidation=='Confirmed') & (Release_df.BarcodeValidation=='Inconclusive'), \n",
    "           'Decision']='Include'\n",
    "Release_df.loc[(Release_df.PhylogeneticValidation=='Confirmed') & (Release_df.BarcodeValidation=='Rejected'), \n",
    "           'Decision']='Review'\n",
    "\n",
    "Release_df.loc[(Release_df.PhylogeneticValidation=='Inconclusive') & (Release_df.BarcodeValidation=='Confirmed'), \n",
    "           'Decision']='Review'\n",
    "Release_df.loc[(Release_df.PhylogeneticValidation=='Inconclusive') & (Release_df.BarcodeValidation=='Inconclusive'), \n",
    "           'Decision']='Review'\n",
    "Release_df.loc[(Release_df.PhylogeneticValidation=='Inconclusive') & (Release_df.BarcodeValidation=='Rejected'), \n",
    "           'Decision']='Exclude'\n",
    "\n",
    "Release_df.loc[(Release_df.PhylogeneticValidation=='Rejected') & (Release_df.BarcodeValidation=='Confirmed'), \n",
    "           'Decision']='Review'\n",
    "Release_df.loc[(Release_df.PhylogeneticValidation=='Rejected') & (Release_df.BarcodeValidation=='Inconclusive'), \n",
    "           'Decision']='Exclude'\n",
    "Release_df.loc[(Release_df.PhylogeneticValidation=='Rejected') & (Release_df.BarcodeValidation=='Rejected'), \n",
    "           'Decision']='Exclude'\n",
    "# barcode validation against phylogenetic validation\n",
    "Release_df.groupby(['PhylogeneticValidation','BarcodeValidation']).size().to_frame().reset_index().rename(columns={0:'Count'})\\\n",
    "    .pivot(index='PhylogeneticValidation', columns='BarcodeValidation', values='Count').to_clipboard()\n",
    "Release_df.groupby(['PhylogeneticValidation','BarcodeValidation']).size().to_frame().reset_index().rename(columns={0:'Count'})\\\n",
    "    .pivot(index='PhylogeneticValidation', columns='BarcodeValidation', values='Count')"
   ]
  },
  {
   "cell_type": "code",
   "execution_count": 25,
   "id": "affecting-botswana",
   "metadata": {},
   "outputs": [
    {
     "name": "stdout",
     "output_type": "stream",
     "text": [
      "N: 8329 o: 72 f: 396 g: 4406\n",
      "{'GAP': 163, 'Gymno': 10, 'INSDC': 326, 'Lietal': 902, 'OneKP': 666, 'PAFTOL': 2507, 'REFSEQ': 3118, 'SRA': 637}\n",
      "{'Exclude': 99, 'Include': 8115, 'Review': 105}\n"
     ]
    },
    {
     "data": {
      "text/html": [
       "<div>\n",
       "<style scoped>\n",
       "    .dataframe tbody tr th:only-of-type {\n",
       "        vertical-align: middle;\n",
       "    }\n",
       "\n",
       "    .dataframe tbody tr th {\n",
       "        vertical-align: top;\n",
       "    }\n",
       "\n",
       "    .dataframe thead th {\n",
       "        text-align: right;\n",
       "    }\n",
       "</style>\n",
       "<table border=\"1\" class=\"dataframe\">\n",
       "  <thead>\n",
       "    <tr style=\"text-align: right;\">\n",
       "      <th></th>\n",
       "      <th>Sample</th>\n",
       "      <th>genus</th>\n",
       "      <th>species</th>\n",
       "      <th>sci_name</th>\n",
       "      <th>DataSource</th>\n",
       "      <th>length</th>\n",
       "      <th>order</th>\n",
       "      <th>class</th>\n",
       "      <th>family</th>\n",
       "      <th>Label</th>\n",
       "      <th>PhylogeneticValidation</th>\n",
       "      <th>Tidx</th>\n",
       "      <th>BarcodeValidation</th>\n",
       "      <th>Decision</th>\n",
       "    </tr>\n",
       "  </thead>\n",
       "  <tbody>\n",
       "    <tr>\n",
       "      <th>0</th>\n",
       "      <td>GAP_022353</td>\n",
       "      <td>Motherwellia</td>\n",
       "      <td>haplosciadea</td>\n",
       "      <td>Motherwellia haplosciadea</td>\n",
       "      <td>GAP</td>\n",
       "      <td>120594</td>\n",
       "      <td>Apiales</td>\n",
       "      <td>campanulids</td>\n",
       "      <td>Araliaceae</td>\n",
       "      <td>Apiales_Araliaceae_Motherwellia_haplosciadea_G...</td>\n",
       "      <td>Inconclusive</td>\n",
       "      <td>0</td>\n",
       "      <td>Confirmed</td>\n",
       "      <td>Review</td>\n",
       "    </tr>\n",
       "    <tr>\n",
       "      <th>1</th>\n",
       "      <td>GAP_026913</td>\n",
       "      <td>Auranticarpa</td>\n",
       "      <td>rhombifolia</td>\n",
       "      <td>Auranticarpa rhombifolia</td>\n",
       "      <td>GAP</td>\n",
       "      <td>79637</td>\n",
       "      <td>Apiales</td>\n",
       "      <td>campanulids</td>\n",
       "      <td>Pittosporaceae</td>\n",
       "      <td>Apiales_Pittosporaceae_Auranticarpa_rhombifoli...</td>\n",
       "      <td>Confirmed</td>\n",
       "      <td>1</td>\n",
       "      <td>Confirmed</td>\n",
       "      <td>Include</td>\n",
       "    </tr>\n",
       "  </tbody>\n",
       "</table>\n",
       "</div>"
      ],
      "text/plain": [
       "       Sample         genus       species                   sci_name  \\\n",
       "0  GAP_022353  Motherwellia  haplosciadea  Motherwellia haplosciadea   \n",
       "1  GAP_026913  Auranticarpa   rhombifolia   Auranticarpa rhombifolia   \n",
       "\n",
       "  DataSource  length    order        class          family  \\\n",
       "0        GAP  120594  Apiales  campanulids      Araliaceae   \n",
       "1        GAP   79637  Apiales  campanulids  Pittosporaceae   \n",
       "\n",
       "                                               Label PhylogeneticValidation  \\\n",
       "0  Apiales_Araliaceae_Motherwellia_haplosciadea_G...           Inconclusive   \n",
       "1  Apiales_Pittosporaceae_Auranticarpa_rhombifoli...              Confirmed   \n",
       "\n",
       "   Tidx BarcodeValidation Decision  \n",
       "0     0         Confirmed   Review  \n",
       "1     1         Confirmed  Include  "
      ]
     },
     "execution_count": 25,
     "metadata": {},
     "output_type": "execute_result"
    }
   ],
   "source": [
    "Treetaxo(Release_df)\n",
    "print(Release_df.groupby('DataSource').size().to_dict())\n",
    "print(Release_df.groupby('Decision').size().to_dict())\n",
    "Release_df[:2]"
   ]
  },
  {
   "cell_type": "code",
   "execution_count": 26,
   "id": "twenty-tradition",
   "metadata": {},
   "outputs": [
    {
     "name": "stdout",
     "output_type": "stream",
     "text": [
      "N: 8309 o: 64 f: 387 g: 4389\n"
     ]
    }
   ],
   "source": [
    "root_orders = ['Pinales','Gnetales','Cupressales','Ginkgoales','Ephedrales','Cupressales','Araucariales','Cycadales','Taxales']\n",
    "Treetaxo(Release_df[Release_df.order.isin(root_orders)==False])"
   ]
  },
  {
   "cell_type": "code",
   "execution_count": 27,
   "id": "working-mauritius",
   "metadata": {},
   "outputs": [
    {
     "name": "stdout",
     "output_type": "stream",
     "text": [
      "% of Exclusion or Review by source\n"
     ]
    },
    {
     "data": {
      "text/plain": [
       "DataSource\n",
       "GAP         3.1\n",
       "Gymno     100.0\n",
       "INSDC       0.6\n",
       "Lietal      1.7\n",
       "OneKP       2.1\n",
       "PAFTOL      4.5\n",
       "REFSEQ      1.3\n",
       "SRA         2.2\n",
       "dtype: float64"
      ]
     },
     "execution_count": 27,
     "metadata": {},
     "output_type": "execute_result"
    }
   ],
   "source": [
    "print('% of Exclusion or Review by source')\n",
    "round(Release_df[Release_df.Decision!='Include'].groupby('DataSource').size()/Release_df.groupby('DataSource').size()*100,1)"
   ]
  },
  {
   "cell_type": "code",
   "execution_count": 29,
   "id": "qualified-floating",
   "metadata": {},
   "outputs": [],
   "source": [
    "# Output file for review process\n",
    "review_columns=['Sample', 'Label', 'DataSource', 'order', 'family', 'genus', 'species','length',\n",
    "                 'PhylogeneticValidation', 'BarcodeValidation','Decision']\n",
    "review_df = pd.concat( [Release_df[review_columns],\n",
    "                    pd.DataFrame(columns=['DecisionReview','DecisionReason','ValidationComments']) ] )\n",
    "review_df.to_excel(project + '/' + project + '_Review.xlsx',index=False)"
   ]
  },
  {
   "cell_type": "code",
   "execution_count": null,
   "id": "virgin-blind",
   "metadata": {},
   "outputs": [],
   "source": [
    "## Tree for review\n",
    "# https://www.biostars.org/p/172568/\n",
    "from ete3 import Tree, NodeStyle, TreeStyle, TextFace, AttrFace, faces\n",
    "\n",
    "tree_file = project + '/' + project + '_0.2_iqtree_labelled_rooted.nwk'\n",
    "T=Tree(tree_file)\n",
    "#Convert to ultrametric\n",
    "most_distant_leaf, tree_length = T.get_farthest_leaf()\n",
    "current_dist = 0\n",
    "for postorder, node in T.iter_prepostorder():\n",
    "    if postorder:\n",
    "        current_dist -= node.dist\n",
    "    else:\n",
    "        if node.is_leaf():\n",
    "            node.dist += tree_length - (current_dist + node.dist)\n",
    "        elif node.up: # node is internal\n",
    "            current_dist += node.dist\n",
    "            \n",
    "ts = TreeStyle()\n",
    "# # ts.show_branch_length = False\n",
    "# # ts.scale = 2\n",
    "# # ts.mode = \"r\"\n",
    "# ts.show_branch_support = True\n",
    "# ts.layout_fn = layout\n",
    "ts.show_leaf_name = True\n",
    "            \n",
    "for n in T.iter_leaves():\n",
    "#     print(n.name, end=',')\n",
    "    nstyle = NodeStyle()\n",
    "    print(n.name, end=',')\n",
    "    if n.name == '':\n",
    "        nstyle[\"size\"] = 0\n",
    "        n.set_style(nstyle)\n",
    "    else:\n",
    "        tmp=Release_df[Release_df.Label==n.name]\n",
    "#         print(tmp)\n",
    "\n",
    "        ## FIX point style should be based on Barcode Validation\n",
    "        if tmp.shape[0]>0:\n",
    "            if (tmp.Decision.isin(['Include']).bool()==True):\n",
    "                nstyle[\"fgcolor\"] = \"green\"\n",
    "                nstyle[\"size\"] = 10\n",
    "            elif (tmp.Decision.isin(['Exclude']).bool()==True):\n",
    "                nstyle[\"fgcolor\"] = \"red\"\n",
    "                nstyle[\"size\"] = 10\n",
    "            elif (tmp.Decision.isin(['Review']).bool()==True):\n",
    "                nstyle[\"fgcolor\"] = \"black\"\n",
    "                nstyle[\"size\"] = 10\n",
    "            else:\n",
    "                nstyle[\"fgcolor\"] = \"blue\"\n",
    "                nstyle[\"size\"] = 8\n",
    "\n",
    "            if (tmp.BarcodeValidation.isin(['Confirmed']).bool()==True):\n",
    "                nstyle[\"shape\"] = \"circle\"\n",
    "            elif (tmp.BarcodeValidation.isin(['Rejected']).bool()==True):\n",
    "                nstyle[\"shape\"] = \"circle\"\n",
    "            elif (tmp.BarcodeValidation.isin(['Inconclusive']).bool()==True):\n",
    "                nstyle[\"shape\"] = \"square\"\n",
    "            \n",
    "            n.set_style(nstyle)\n",
    "        else:\n",
    "            nstyle[\"size\"] = 0\n",
    "            n.set_style(nstyle)\n",
    "T.render(project + '/' + project + \"_pretree.svg\", w=150, units=\"mm\",dpi=150,tree_style=ts);"
   ]
  },
  {
   "cell_type": "markdown",
   "id": "varying-blues",
   "metadata": {},
   "source": [
    "## Final tree"
   ]
  },
  {
   "cell_type": "code",
   "execution_count": 9,
   "id": "certified-spelling",
   "metadata": {},
   "outputs": [
    {
     "name": "stdout",
     "output_type": "stream",
     "text": [
      "8329\n",
      "N: 8329 o: 72 f: 396 g: 4406\n"
     ]
    },
    {
     "data": {
      "text/html": [
       "<div>\n",
       "<style scoped>\n",
       "    .dataframe tbody tr th:only-of-type {\n",
       "        vertical-align: middle;\n",
       "    }\n",
       "\n",
       "    .dataframe tbody tr th {\n",
       "        vertical-align: top;\n",
       "    }\n",
       "\n",
       "    .dataframe thead th {\n",
       "        text-align: right;\n",
       "    }\n",
       "</style>\n",
       "<table border=\"1\" class=\"dataframe\">\n",
       "  <thead>\n",
       "    <tr style=\"text-align: right;\">\n",
       "      <th></th>\n",
       "      <th>Sample</th>\n",
       "      <th>Label</th>\n",
       "      <th>DataSource</th>\n",
       "      <th>order</th>\n",
       "      <th>family</th>\n",
       "      <th>genus</th>\n",
       "      <th>species</th>\n",
       "      <th>length</th>\n",
       "      <th>PhylogeneticValidation</th>\n",
       "      <th>BarcodeValidation</th>\n",
       "      <th>Decision</th>\n",
       "      <th>DecisionReview</th>\n",
       "      <th>DecisionReason</th>\n",
       "      <th>ValidationComments</th>\n",
       "    </tr>\n",
       "  </thead>\n",
       "  <tbody>\n",
       "    <tr>\n",
       "      <th>0</th>\n",
       "      <td>PAFTOL_008669</td>\n",
       "      <td>Commelinales_Commelinaceae_Floscopa_glomerata_...</td>\n",
       "      <td>PAFTOL</td>\n",
       "      <td>Commelinales</td>\n",
       "      <td>Commelinaceae</td>\n",
       "      <td>Floscopa</td>\n",
       "      <td>glomerata</td>\n",
       "      <td>40762</td>\n",
       "      <td>Confirmed</td>\n",
       "      <td>Rejected</td>\n",
       "      <td>Review</td>\n",
       "      <td>Include</td>\n",
       "      <td>NaN</td>\n",
       "      <td>NaN</td>\n",
       "    </tr>\n",
       "    <tr>\n",
       "      <th>1</th>\n",
       "      <td>GAP_026913</td>\n",
       "      <td>Apiales_Pittosporaceae_Auranticarpa_rhombifoli...</td>\n",
       "      <td>GAP</td>\n",
       "      <td>Apiales</td>\n",
       "      <td>Pittosporaceae</td>\n",
       "      <td>Auranticarpa</td>\n",
       "      <td>rhombifolia</td>\n",
       "      <td>79637</td>\n",
       "      <td>Confirmed</td>\n",
       "      <td>Confirmed</td>\n",
       "      <td>Include</td>\n",
       "      <td>NaN</td>\n",
       "      <td>NaN</td>\n",
       "      <td>NaN</td>\n",
       "    </tr>\n",
       "  </tbody>\n",
       "</table>\n",
       "</div>"
      ],
      "text/plain": [
       "          Sample                                              Label  \\\n",
       "0  PAFTOL_008669  Commelinales_Commelinaceae_Floscopa_glomerata_...   \n",
       "1     GAP_026913  Apiales_Pittosporaceae_Auranticarpa_rhombifoli...   \n",
       "\n",
       "  DataSource         order          family         genus      species  length  \\\n",
       "0     PAFTOL  Commelinales   Commelinaceae      Floscopa    glomerata   40762   \n",
       "1        GAP       Apiales  Pittosporaceae  Auranticarpa  rhombifolia   79637   \n",
       "\n",
       "  PhylogeneticValidation BarcodeValidation Decision DecisionReview  \\\n",
       "0              Confirmed          Rejected   Review        Include   \n",
       "1              Confirmed         Confirmed  Include            NaN   \n",
       "\n",
       "   DecisionReason ValidationComments  \n",
       "0             NaN                NaN  \n",
       "1             NaN                NaN  "
      ]
     },
     "execution_count": 9,
     "metadata": {},
     "output_type": "execute_result"
    }
   ],
   "source": [
    "# Read review file\n",
    "Review = pd.read_excel(project + '/' + project + '_pretree_Review.xlsx')\n",
    "print(Review.shape[0])\n",
    "Treetaxo(Review)\n",
    "Review[:2]"
   ]
  },
  {
   "cell_type": "code",
   "execution_count": 17,
   "id": "logical-architect",
   "metadata": {},
   "outputs": [
    {
     "name": "stdout",
     "output_type": "stream",
     "text": [
      "N: 8222 o: 72 f: 396 g: 4346\n",
      "N: 8202 o: 64 f: 387 g: 4329\n",
      "{'Sample': 0, 'Label': 0, 'DataSource': 0, 'order': 0, 'family': 0, 'genus': 0, 'species': 0, 'length': 0, 'PhylogeneticValidation': 0, 'BarcodeValidation': 10, 'Decision': 10, 'DecisionReview': 8115, 'DecisionReason': 8222, 'ValidationComments': 8162}\n",
      "DataSource\n",
      "GAP        2.0\n",
      "Gymno      0.1\n",
      "INSDC      3.9\n",
      "Lietal    10.9\n",
      "OneKP      8.1\n",
      "PAFTOL    29.5\n",
      "REFSEQ    37.8\n",
      "SRA        7.7\n",
      "dtype: float64\n"
     ]
    }
   ],
   "source": [
    "Review = Review[(Review.Decision=='Include') | (Review.DecisionReview=='Include')]\n",
    "Treetaxo(Review)\n",
    "root_orders = ['Pinales','Gnetales','Cupressales','Ginkgoales','Ephedrales','Cupressales','Araucariales','Cycadales','Taxales']\n",
    "Treetaxo(Review[Review.order.isin(root_orders)==False])\n",
    "print(Review.isna().sum().to_dict())\n",
    "print(round(Review.groupby('DataSource').size()/Review.shape[0]*100,1))"
   ]
  },
  {
   "cell_type": "code",
   "execution_count": 14,
   "id": "graphic-pizza",
   "metadata": {},
   "outputs": [],
   "source": [
    "Review.to_csv(project + '/' + project + '_final.csv',index=False)\n",
    "Review[['Sample','Label']].to_csv(project + '/' + project + '_final_labels.txt',index=False,header=None,sep=' ')"
   ]
  }
 ],
 "metadata": {
  "kernelspec": {
   "display_name": "Python 3",
   "language": "python",
   "name": "python3"
  },
  "language_info": {
   "codemirror_mode": {
    "name": "ipython",
    "version": 3
   },
   "file_extension": ".py",
   "mimetype": "text/x-python",
   "name": "python",
   "nbconvert_exporter": "python",
   "pygments_lexer": "ipython3",
   "version": "3.7.9"
  }
 },
 "nbformat": 4,
 "nbformat_minor": 5
}
