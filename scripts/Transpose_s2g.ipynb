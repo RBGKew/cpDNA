{
 "cells": [
  {
   "cell_type": "code",
   "execution_count": 1,
   "id": "amino-aside",
   "metadata": {},
   "outputs": [],
   "source": [
    "import pandas as pd\n",
    "from Bio import SeqIO\n",
    "import argparse"
   ]
  },
  {
   "cell_type": "code",
   "execution_count": 7,
   "id": "adjusted-limit",
   "metadata": {},
   "outputs": [],
   "source": [
    "# params = {}\n",
    "# params['filename'] = '../allgenes_allsamples.fasta'\n",
    "# params['min_len_r'] = 0.2; params['min_sample_r'] = 0.5; \n",
    "# params['out_dir'] = '../Genes/'\n",
    "# params['genes_kept_file'] = 'ls_genes_kept.txt'\n",
    "# params['acc_genes'] = True"
   ]
  },
  {
   "cell_type": "code",
   "execution_count": 4,
   "id": "lesser-intelligence",
   "metadata": {},
   "outputs": [],
   "source": [
    "parser = argparse.ArgumentParser(description='Get genes from all samples')\n",
    "parser.add_argument(\"-f\", help=\"fasta file\", dest=\"filename\", required=True)\n",
    "parser.add_argument(\"--min_len_r\", help=\"min_len_r\", action=\"store\", type=float, default=0.2)\n",
    "parser.add_argument(\"--min_sample_r\", help=\"min_sample_r\", action=\"store\", type=float, default=0.5)\n",
    "parser.add_argument(\"--acc_genes\", help=\"Keep only accepted genes (defined in script)\", action=\"store_true\", default=False)\n",
    "parser.add_argument(\"--out_dir\", help=\"Output dir\", action=\"store\", default='Genes/')\n",
    "parser.add_argument(\"--genes_kept_file\", help=\"Output genes kept\", action=\"store\", default='ls_genes.txt')\n",
    "params = vars(parser.parse_args());"
   ]
  },
  {
   "cell_type": "code",
   "execution_count": 3,
   "id": "alleged-grocery",
   "metadata": {},
   "outputs": [
    {
     "name": "stdout",
     "output_type": "stream",
     "text": [
      "Parameters: {'fasta_file': '../allgenes_allsamples.fasta', 'min_gene_r': 0.5, 'min_sample_r': 0.2, 'min_len_r': 0.2, 'out_dir': '../Genes/', 'genes_kept_file': 'ls_genes_kept.txt', 'acc_genes': True}\n"
     ]
    }
   ],
   "source": [
    "print('Parameters:',params)"
   ]
  },
  {
   "cell_type": "code",
   "execution_count": 4,
   "id": "dominant-candle",
   "metadata": {},
   "outputs": [
    {
     "name": "stdout",
     "output_type": "stream",
     "text": [
      "Loading records...\n"
     ]
    }
   ],
   "source": [
    "# records\n",
    "print('Loading records...')\n",
    "rec_dc = {}\n",
    "Records = SeqIO.to_dict(SeqIO.parse(params['filename'],format='fasta'))\n",
    "for id, record in Records.items():\n",
    "    rec_dc[id] = len(record.seq)"
   ]
  },
  {
   "cell_type": "code",
   "execution_count": 5,
   "id": "lesser-output",
   "metadata": {},
   "outputs": [
    {
     "name": "stdout",
     "output_type": "stream",
     "text": [
      "found 441988 sequences, 9206 samples, 92 genes\n"
     ]
    }
   ],
   "source": [
    "rec_df = pd.DataFrame.from_dict(rec_dc,orient='index').reset_index().rename(columns={'index':'seqid',0:'len'})\n",
    "rec_df[['Sample_Name','gene']] = rec_df.seqid.str.split('-',expand=True)\n",
    "rec_df.to_csv(params['filename'].replace('.fasta','_All_SeqTable.csv'),index=False)\n",
    "print('found',rec_df.shape[0],'sequences,',rec_df.Sample_Name.nunique(),'samples,',rec_df.gene.nunique(),'genes')"
   ]
  },
  {
   "cell_type": "code",
   "execution_count": 6,
   "id": "departmental-constraint",
   "metadata": {},
   "outputs": [
    {
     "name": "stdout",
     "output_type": "stream",
     "text": [
      "keeping only 76 accepted genes\n",
      "> 381246 sequences, 8867 samples, 76 genes\n"
     ]
    }
   ],
   "source": [
    "if params['acc_genes']==True:\n",
    "    accepted_genes = ['accD','atpA','atpB','atpE','atpF','atpH','atpI','ccsA','cemA','clpP','matK','ndhA','ndhB','ndhC','ndhD','ndhE',\n",
    "                  'ndhF','ndhG','ndhH','ndhI','ndhJ','ndhK','petA','petB','petD','petG','petL','petN','psaA','psaB','psaC','psaI',\n",
    "                  'psaJ','psbA','psbB','psbC','psbD','psbE','psbF','psbH','psbI','psbJ','psbK','psbL','psbM','psbN','psbT','psbZ',\n",
    "                  'rbcL','rpl2','rpl14','rpl16','rpl20','rpl22','rpl23','rpl32','rpl33','rpl36','rpoA','rpoB','rpoC1','rpoC2','rps2',\n",
    "                  'rps3','rps4','rps7','rps8','rps11','rps12','rps14','rps15','rps16','rps18','rps19','ycf3','ycf4']\n",
    "    print('keeping only',len(accepted_genes),'accepted genes')\n",
    "    rec_df = rec_df[rec_df.gene.isin(accepted_genes)]\n",
    "    print('>',rec_df.shape[0],'sequences,',rec_df.Sample_Name.nunique(),'samples,',rec_df.gene.nunique(),'genes')"
   ]
  },
  {
   "cell_type": "code",
   "execution_count": 17,
   "id": "unlikely-questionnaire",
   "metadata": {},
   "outputs": [
    {
     "name": "stdout",
     "output_type": "stream",
     "text": [
      "46.0 % of samples have > 80.0 of genes. Median Sum of genes length: 60441.0\n"
     ]
    }
   ],
   "source": [
    "# Median Sum of gene length for good recoveries\n",
    "Stats_len = rec_df.groupby('Sample_Name').agg({'len':'sum','gene':'count'})#.to_frame()\n",
    "Stats_len_good = Stats_len[Stats_len.gene>=rec_df.gene.nunique()]\n",
    "median_sumlen = Stats_len_good.len.median()\n",
    "print(round(Stats_len_good.shape[0]/Stats_len.shape[0]*100,0),'% of samples have',rec_df.gene.nunique(),\n",
    "      'genes. Median Sum of genes length:',median_sumlen)"
   ]
  },
  {
   "cell_type": "code",
   "execution_count": 24,
   "id": "practical-contribution",
   "metadata": {},
   "outputs": [
    {
     "name": "stdout",
     "output_type": "stream",
     "text": [
      "min_contigs_len: 12088.2 3143\n",
      "min_sample: 2862 0\n",
      "after filtering 356749 sequences, 5724 samples, 72 genes\n"
     ]
    }
   ],
   "source": [
    "# Filter by sum of contigs length\n",
    "min_contigs_len = median_sumlen*params['min_len_r']\n",
    "print('min_contigs_len:',min_contigs_len, (Stats_len['len']<min_contigs_len).sum(),'samples failed')\n",
    "samples_pass = list(Stats_len[Stats_len['len']>=min_contigs_len].index)\n",
    "rec_df = rec_df[rec_df.Sample_Name.isin(samples_pass)]\n",
    "\n",
    "# Filter by number of samples per gene\n",
    "min_sample = round(params['min_sample_r']*rec_df.Sample_Name.nunique())\n",
    "tmp = rec_df.groupby('gene').size().to_frame().rename(columns={0:'N'})\n",
    "print('min_sample:',min_sample, (tmp.N<min_sample).sum(),'genes failed')\n",
    "genes_pass = list(tmp[tmp.N>=min_sample].index)\n",
    "rec_df = rec_df[rec_df.gene.isin(genes_pass)]\n",
    "\n",
    "print('after filtering',rec_df.shape[0],'sequences,',rec_df.Sample_Name.nunique(),'samples,',rec_df.gene.nunique(),'genes')\n",
    "rec_df.to_csv(params['filename'].replace('.fasta','_Sel_SeqTable.csv'),index=False)"
   ]
  },
  {
   "cell_type": "code",
   "execution_count": 26,
   "id": "incorporated-fountain",
   "metadata": {},
   "outputs": [],
   "source": [
    "# Update gene list\n",
    "genes_df = rec_df.groupby('gene').size().to_frame().reset_index()\n",
    "genes_df.gene.to_csv(params['genes_kept_file'],index=False,header=None)"
   ]
  },
  {
   "cell_type": "code",
   "execution_count": 28,
   "id": "hairy-giving",
   "metadata": {},
   "outputs": [],
   "source": [
    "# Write output, gene by gene\n",
    "for idx, row in genes_df.iterrows():\n",
    "    rec_gene = []\n",
    "    seqid_ls = list(rec_df[rec_df.gene==row.gene].seqid)\n",
    "    for seqid in seqid_ls:\n",
    "        Records[seqid].id = Records[seqid].id.split('-')[0]\n",
    "        rec_gene.append(Records[seqid])\n",
    "    SeqIO.write(rec_gene, params['out_dir'] + row.gene + '.fasta',format='fasta')"
   ]
  }
 ],
 "metadata": {
  "kernelspec": {
   "display_name": "Python 3",
   "language": "python",
   "name": "python3"
  },
  "language_info": {
   "codemirror_mode": {
    "name": "ipython",
    "version": 3
   },
   "file_extension": ".py",
   "mimetype": "text/x-python",
   "name": "python",
   "nbconvert_exporter": "python",
   "pygments_lexer": "ipython3",
   "version": "3.7.9"
  }
 },
 "nbformat": 4,
 "nbformat_minor": 5
}
