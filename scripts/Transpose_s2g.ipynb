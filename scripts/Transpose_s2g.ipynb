{
 "cells": [
  {
   "cell_type": "code",
   "execution_count": 120,
   "metadata": {},
   "outputs": [],
   "source": [
    "import pandas as pd\n",
    "from Bio import SeqIO\n",
    "import argparse"
   ]
  },
  {
   "cell_type": "code",
   "execution_count": 121,
   "metadata": {},
   "outputs": [],
   "source": [
    "params = {}\n",
    "params['filename'] = '../AllSamples_Allgenes.fasta'\n",
    "params['min_len_r'] = 0; params['min_sample_r'] = 0; \n",
    "params['out_dir'] = '../Genes/'\n",
    "params['genes_kept_file'] = 'ls_genes_kept.txt'\n",
    "params['acc_genes'] = True\n",
    "params['rename'] = '../cpTree_v7/cpTree_v7_tree_DataDistribution.txt'\n",
    "# params['rename'] = False"
   ]
  },
  {
   "cell_type": "code",
   "execution_count": 122,
   "metadata": {},
   "outputs": [],
   "source": [
    "# parser = argparse.ArgumentParser(description='Get genes from all samples')\n",
    "# parser.add_argument(\"-f\", help=\"fasta file\", dest=\"filename\", required=True)\n",
    "# parser.add_argument(\"--min_len_r\", help=\"min_len_r\", action=\"store\", type=float, default=0.2)\n",
    "# parser.add_argument(\"--min_sample_r\", help=\"min_sample_r\", action=\"store\", type=float, default=0.5)\n",
    "# parser.add_argument(\"--acc_genes\", help=\"Keep only accepted genes (defined in script)\", action=\"store_true\", default=False)\n",
    "# parser.add_argument(\"--out_dir\", help=\"Output dir\", action=\"store\", default='Genes/')\n",
    "# parser.add_argument(\"--rename\", help=\"Rename Samples. 2nd column is new name, 3rd is label\", action=\"store\", default=False)\n",
    "# parser.add_argument(\"--genes_kept_file\", help=\"Output genes kept\", action=\"store\", default='ls_genes.txt')\n",
    "# params = vars(parser.parse_args());"
   ]
  },
  {
   "cell_type": "code",
   "execution_count": 123,
   "metadata": {},
   "outputs": [
    {
     "name": "stdout",
     "output_type": "stream",
     "text": [
      "Parameters: {'filename': '../AllSamples_Allgenes.fasta', 'min_len_r': 0, 'min_sample_r': 0, 'out_dir': '../Genes/', 'genes_kept_file': 'ls_genes_kept.txt', 'acc_genes': True, 'rename': '../cpTree_v7/cpTree_v7_tree_DataDistribution.txt'}\n"
     ]
    }
   ],
   "source": [
    "print('Parameters:',params)"
   ]
  },
  {
   "cell_type": "code",
   "execution_count": 124,
   "metadata": {},
   "outputs": [
    {
     "name": "stdout",
     "output_type": "stream",
     "text": [
      "Loading records...\n"
     ]
    }
   ],
   "source": [
    "# records\n",
    "print('Loading records...')\n",
    "rec_dc = {}\n",
    "Records = SeqIO.to_dict(SeqIO.parse(params['filename'],format='fasta'))\n",
    "for id, record in Records.items():\n",
    "    rec_dc[id] = len(record.seq)"
   ]
  },
  {
   "cell_type": "code",
   "execution_count": 125,
   "metadata": {},
   "outputs": [
    {
     "name": "stdout",
     "output_type": "stream",
     "text": [
      "found 9308 sequences, 100 samples, 117 genes\n"
     ]
    }
   ],
   "source": [
    "rec_df = pd.DataFrame.from_dict(rec_dc,orient='index').reset_index().rename(columns={'index':'seqid',0:'len'})\n",
    "rec_df[['Sample_Name','gene']] = rec_df.seqid.str.split('-',expand=True)\n",
    "print('found',rec_df.shape[0],'sequences,',rec_df.Sample_Name.nunique(),'samples,',rec_df.gene.nunique(),'genes')"
   ]
  },
  {
   "cell_type": "code",
   "execution_count": 126,
   "metadata": {},
   "outputs": [
    {
     "name": "stdout",
     "output_type": "stream",
     "text": [
      "{'seqid': 0, 'len': 0, 'Sample_Name': 0, 'gene': 0, 'Public_Name': 0, 'Label': 0}\n"
     ]
    }
   ],
   "source": [
    "if params['rename']!=False:\n",
    "    rename_df = pd.read_table(params['rename'],sep=' ',header=None)\n",
    "    rename_df.columns = ['Sample_Name','Public_Name','Label']\n",
    "    rec_df = pd.merge(rec_df,rename_df,how='left',on='Sample_Name')\n",
    "    print(rec_df.isna().sum().to_dict())"
   ]
  },
  {
   "cell_type": "code",
   "execution_count": 127,
   "metadata": {},
   "outputs": [],
   "source": [
    "rec_df.to_csv(params['filename'].replace('.fasta','_All_SeqTable.csv'),index=False)"
   ]
  },
  {
   "cell_type": "code",
   "execution_count": 128,
   "metadata": {},
   "outputs": [
    {
     "name": "stdout",
     "output_type": "stream",
     "text": [
      "keeping only 76 accepted genes\n",
      "> 6052 sequences, 100 samples, 75 genes\n"
     ]
    }
   ],
   "source": [
    "if params['acc_genes']==True:\n",
    "    accepted_genes = ['accD','atpA','atpB','atpE','atpF','atpH','atpI','ccsA','cemA','clpP','matK','ndhA','ndhB','ndhC','ndhD','ndhE',\n",
    "                  'ndhF','ndhG','ndhH','ndhI','ndhJ','ndhK','petA','petB','petD','petG','petL','petN','psaA','psaB','psaC','psaI',\n",
    "                  'psaJ','psbA','psbB','psbC','psbD','psbE','psbF','psbH','psbI','psbJ','psbK','psbL','psbM','psbN','psbT','psbZ',\n",
    "                  'rbcL','rpl2','rpl14','rpl16','rpl20','rpl22','rpl23','rpl32','rpl33','rpl36','rpoA','rpoB','rpoC1','rpoC2','rps2',\n",
    "                  'rps3','rps4','rps7','rps8','rps11','rps12','rps14','rps15','rps16','rps18','rps19','ycf3','ycf4']\n",
    "    print('keeping only',len(accepted_genes),'accepted genes')\n",
    "    rec_df = rec_df[rec_df.gene.isin(accepted_genes)]\n",
    "    print('>',rec_df.shape[0],'sequences,',rec_df.Sample_Name.nunique(),'samples,',rec_df.gene.nunique(),'genes')"
   ]
  },
  {
   "cell_type": "code",
   "execution_count": 129,
   "metadata": {},
   "outputs": [
    {
     "name": "stdout",
     "output_type": "stream",
     "text": [
      "0.0 % of samples have 75 genes. Median Sum of genes length: 0\n"
     ]
    }
   ],
   "source": [
    "# Median Sum of gene length for good recoveries\n",
    "Stats_len = rec_df.groupby('Sample_Name').agg({'len':'sum','gene':'count'})#.to_frame()\n",
    "print('Median gene count:',Stats_len.gene.median(),'Median sum of gene lengths:',Stats_len.gene.median())\n",
    "Stats_len_good = Stats_len[Stats_len.gene>=rec_df.gene.nunique()*0.9]\n",
    "median_sumlen = Stats_len_good.len.median()\n",
    "median_sumlen = 0\n",
    "print(round(Stats_len_good.shape[0]/Stats_len.shape[0]*100,0),'% of samples have',rec_df.gene.nunique(),\n",
    "      'genes. Median Sum of genes length:',median_sumlen)"
   ]
  },
  {
   "cell_type": "code",
   "execution_count": 130,
   "metadata": {},
   "outputs": [
    {
     "name": "stdout",
     "output_type": "stream",
     "text": [
      "min_contigs_len: 0 0 samples failed\n",
      "min_sample: 0 0 genes failed\n",
      "after filtering 6052 sequences, 100 samples, 75 genes\n"
     ]
    }
   ],
   "source": [
    "# Filter by sum of contigs length\n",
    "min_contigs_len = median_sumlen*params['min_len_r']\n",
    "print('min_contigs_len:',min_contigs_len, (Stats_len['len']<min_contigs_len).sum(),'samples failed')\n",
    "samples_pass = list(Stats_len[Stats_len['len']>=min_contigs_len].index)\n",
    "rec_df = rec_df[rec_df.Sample_Name.isin(samples_pass)]\n",
    "\n",
    "# Filter by number of samples per gene\n",
    "min_sample = round(params['min_sample_r']*rec_df.Sample_Name.nunique())\n",
    "tmp = rec_df.groupby('gene').size().to_frame().rename(columns={0:'N'})\n",
    "print('min_sample:',min_sample, (tmp.N<min_sample).sum(),'genes failed')\n",
    "genes_pass = list(tmp[tmp.N>=min_sample].index)\n",
    "rec_df = rec_df[rec_df.gene.isin(genes_pass)]\n",
    "\n",
    "print('after filtering',rec_df.shape[0],'sequences,',rec_df.Sample_Name.nunique(),'samples,',rec_df.gene.nunique(),'genes')\n",
    "rec_df.to_csv(params['filename'].replace('.fasta','_Sel_SeqTable.csv'),index=False)"
   ]
  },
  {
   "cell_type": "code",
   "execution_count": 131,
   "metadata": {},
   "outputs": [
    {
     "name": "stderr",
     "output_type": "stream",
     "text": [
      "<ipython-input-131-839542094a11>:3: FutureWarning: The signature of `Series.to_csv` was aligned to that of `DataFrame.to_csv`, and argument 'header' will change its default value from False to True: please pass an explicit value to suppress this warning.\n",
      "  genes_df.gene.to_csv(params['genes_kept_file'],index=False,header=None)\n"
     ]
    }
   ],
   "source": [
    "# Update gene list\n",
    "genes_df = rec_df.groupby('gene').size().to_frame().reset_index()\n",
    "genes_df.gene.to_csv(params['genes_kept_file'],index=False,header=None)"
   ]
  },
  {
   "cell_type": "code",
   "execution_count": 132,
   "metadata": {},
   "outputs": [],
   "source": [
    "# Write output, gene by gene\n",
    "for idx, row in genes_df.iterrows():\n",
    "    rec_gene = []\n",
    "    rec_gene_df = rec_df[rec_df.gene==row.gene]\n",
    "    for idx, row in rec_gene_df.iterrows():\n",
    "        if params['rename']!=False:\n",
    "            Records[row.seqid].id = row.Public_Name\n",
    "            Records[row.seqid].description = row.Label + ' ' + Records[row.seqid].description\n",
    "        else:\n",
    "            Records[row.seqid].id = row.Sample_Name\n",
    "        Records[row.seqid].description = Records[row.seqid].description\\\n",
    "                                    .replace('reference_coverage','reference_overlap').replace('organism-gene','Reference_organism-gene')\n",
    "        rec_gene.append(Records[row.seqid])\n",
    "    SeqIO.write(rec_gene, params['out_dir'] + row.gene + '.fasta',format='fasta')"
   ]
  }
 ],
 "metadata": {
  "kernelspec": {
   "display_name": "Python 3",
   "language": "python",
   "name": "python3"
  },
  "language_info": {
   "codemirror_mode": {
    "name": "ipython",
    "version": 3
   },
   "file_extension": ".py",
   "mimetype": "text/x-python",
   "name": "python",
   "nbconvert_exporter": "python",
   "pygments_lexer": "ipython3",
   "version": "3.8.5"
  }
 },
 "nbformat": 4,
 "nbformat_minor": 5
}
