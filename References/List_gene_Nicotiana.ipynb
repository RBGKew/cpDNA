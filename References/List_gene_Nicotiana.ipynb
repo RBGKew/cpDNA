{
 "cells": [
  {
   "cell_type": "code",
   "execution_count": 1,
   "metadata": {},
   "outputs": [],
   "source": [
    "from Bio import SeqIO\n",
    "from Bio.Seq import Seq\n",
    "from Bio.SeqRecord import SeqRecord\n",
    "import os\n",
    "import pandas as pd\n",
    "import numpy as np"
   ]
  },
  {
   "cell_type": "code",
   "execution_count": 2,
   "metadata": {},
   "outputs": [],
   "source": [
    "def get_qualifier(feature, qualifier):\n",
    "    try:\n",
    "        return feature.qualifiers[qualifier][0]\n",
    "    except:\n",
    "        return np.nan\n",
    "def get_features(gb_file):\n",
    "    seq_dc=[]\n",
    "    for rec in SeqIO.parse(gb_file, \"genbank\"):\n",
    "        for feature in rec.features:\n",
    "            feat_dc = {'type':feature.type}\n",
    "            feat_dc['gene'] = get_qualifier(feature,'gene')\n",
    "            feat_dc['product'] = get_qualifier(feature,'product')\n",
    "#             feat_dc['info'] = get_qualifier(feature,'info')\n",
    "            if feat_dc['gene'] is np.nan:\n",
    "                feat_dc['gene'] = get_qualifier(feature,'note')\n",
    "            feat_dc['len'] = len(feature.location.extract(rec).seq)\n",
    "            feat_dc['location'] = str(feature.location)\n",
    "            feat_dc['seq'] = str(feature.location.extract(rec).seq)\n",
    "            seq_dc.append(feat_dc)\n",
    "    return pd.DataFrame(seq_dc)"
   ]
  },
  {
   "cell_type": "code",
   "execution_count": 3,
   "metadata": {},
   "outputs": [],
   "source": [
    "df_genes = get_features(gb_file='Nicotiana_Tabacum_plastome.gb')"
   ]
  },
  {
   "cell_type": "code",
   "execution_count": 12,
   "metadata": {},
   "outputs": [
    {
     "data": {
      "text/plain": [
       "type\n",
       "CDS               98\n",
       "exon              49\n",
       "gene             144\n",
       "intron            16\n",
       "misc_feature      10\n",
       "rRNA               8\n",
       "rep_origin         4\n",
       "repeat_region      2\n",
       "source             1\n",
       "tRNA              37\n",
       "dtype: int64"
      ]
     },
     "execution_count": 12,
     "metadata": {},
     "output_type": "execute_result"
    }
   ],
   "source": [
    "df_genes.groupby('type').size()"
   ]
  },
  {
   "cell_type": "code",
   "execution_count": 15,
   "metadata": {},
   "outputs": [
    {
     "data": {
      "text/html": [
       "<div>\n",
       "<style scoped>\n",
       "    .dataframe tbody tr th:only-of-type {\n",
       "        vertical-align: middle;\n",
       "    }\n",
       "\n",
       "    .dataframe tbody tr th {\n",
       "        vertical-align: top;\n",
       "    }\n",
       "\n",
       "    .dataframe thead th {\n",
       "        text-align: right;\n",
       "    }\n",
       "</style>\n",
       "<table border=\"1\" class=\"dataframe\">\n",
       "  <thead>\n",
       "    <tr style=\"text-align: right;\">\n",
       "      <th></th>\n",
       "      <th>type</th>\n",
       "      <th>gene</th>\n",
       "      <th>product</th>\n",
       "      <th>len</th>\n",
       "      <th>location</th>\n",
       "      <th>seq</th>\n",
       "    </tr>\n",
       "  </thead>\n",
       "  <tbody>\n",
       "    <tr>\n",
       "      <th>256</th>\n",
       "      <td>rRNA</td>\n",
       "      <td>NaN</td>\n",
       "      <td>16S ribosomal RNA</td>\n",
       "      <td>1491</td>\n",
       "      <td>[102761:104252](+)</td>\n",
       "      <td>TCTCATGGAGAGTTCGATCCTGGCTCAGGATGAACGCTGGCGGCAT...</td>\n",
       "    </tr>\n",
       "    <tr>\n",
       "      <th>267</th>\n",
       "      <td>rRNA</td>\n",
       "      <td>NaN</td>\n",
       "      <td>23S ribosomal RNA</td>\n",
       "      <td>2810</td>\n",
       "      <td>[106330:109140](+)</td>\n",
       "      <td>TTCAAACGAGGAAAGGCTTACGGTGGATACCTAGGCACCCAGAGAC...</td>\n",
       "    </tr>\n",
       "    <tr>\n",
       "      <th>269</th>\n",
       "      <td>rRNA</td>\n",
       "      <td>NaN</td>\n",
       "      <td>4.5S ribosomal RNA</td>\n",
       "      <td>103</td>\n",
       "      <td>[109241:109344](+)</td>\n",
       "      <td>GAAGGTCACGGCGAGACGAGCCGTTTATCATTACGATAGGTGTCAA...</td>\n",
       "    </tr>\n",
       "    <tr>\n",
       "      <th>271</th>\n",
       "      <td>rRNA</td>\n",
       "      <td>NaN</td>\n",
       "      <td>5S ribosomal RNA</td>\n",
       "      <td>121</td>\n",
       "      <td>[109600:109721](+)</td>\n",
       "      <td>TATTCTGGTGTCCTAGGCGTAGAGGAACCACACCAATCCATCCCGA...</td>\n",
       "    </tr>\n",
       "    <tr>\n",
       "      <th>323</th>\n",
       "      <td>rRNA</td>\n",
       "      <td>NaN</td>\n",
       "      <td>5S ribosomal RNA</td>\n",
       "      <td>121</td>\n",
       "      <td>[132908:133029](-)</td>\n",
       "      <td>TATTCTGGTGTCCTAGGCGTAGAGGAACCACACCAATCCATCCCGA...</td>\n",
       "    </tr>\n",
       "    <tr>\n",
       "      <th>325</th>\n",
       "      <td>rRNA</td>\n",
       "      <td>NaN</td>\n",
       "      <td>4.5S ribosomal RNA</td>\n",
       "      <td>103</td>\n",
       "      <td>[133285:133388](-)</td>\n",
       "      <td>GAAGGTCACGGCGAGACGAGCCGTTTATCATTACGATAGGTGTCAA...</td>\n",
       "    </tr>\n",
       "    <tr>\n",
       "      <th>327</th>\n",
       "      <td>rRNA</td>\n",
       "      <td>NaN</td>\n",
       "      <td>23S ribosomal RNA</td>\n",
       "      <td>2810</td>\n",
       "      <td>[133489:136299](-)</td>\n",
       "      <td>TTCAAACGAGGAAAGGCTTACGGTGGATACCTAGGCACCCAGAGAC...</td>\n",
       "    </tr>\n",
       "    <tr>\n",
       "      <th>338</th>\n",
       "      <td>rRNA</td>\n",
       "      <td>NaN</td>\n",
       "      <td>16S ribosomal RNA</td>\n",
       "      <td>1491</td>\n",
       "      <td>[138377:139868](-)</td>\n",
       "      <td>TCTCATGGAGAGTTCGATCCTGGCTCAGGATGAACGCTGGCGGCAT...</td>\n",
       "    </tr>\n",
       "  </tbody>\n",
       "</table>\n",
       "</div>"
      ],
      "text/plain": [
       "     type gene             product   len            location  \\\n",
       "256  rRNA  NaN   16S ribosomal RNA  1491  [102761:104252](+)   \n",
       "267  rRNA  NaN   23S ribosomal RNA  2810  [106330:109140](+)   \n",
       "269  rRNA  NaN  4.5S ribosomal RNA   103  [109241:109344](+)   \n",
       "271  rRNA  NaN    5S ribosomal RNA   121  [109600:109721](+)   \n",
       "323  rRNA  NaN    5S ribosomal RNA   121  [132908:133029](-)   \n",
       "325  rRNA  NaN  4.5S ribosomal RNA   103  [133285:133388](-)   \n",
       "327  rRNA  NaN   23S ribosomal RNA  2810  [133489:136299](-)   \n",
       "338  rRNA  NaN   16S ribosomal RNA  1491  [138377:139868](-)   \n",
       "\n",
       "                                                   seq  \n",
       "256  TCTCATGGAGAGTTCGATCCTGGCTCAGGATGAACGCTGGCGGCAT...  \n",
       "267  TTCAAACGAGGAAAGGCTTACGGTGGATACCTAGGCACCCAGAGAC...  \n",
       "269  GAAGGTCACGGCGAGACGAGCCGTTTATCATTACGATAGGTGTCAA...  \n",
       "271  TATTCTGGTGTCCTAGGCGTAGAGGAACCACACCAATCCATCCCGA...  \n",
       "323  TATTCTGGTGTCCTAGGCGTAGAGGAACCACACCAATCCATCCCGA...  \n",
       "325  GAAGGTCACGGCGAGACGAGCCGTTTATCATTACGATAGGTGTCAA...  \n",
       "327  TTCAAACGAGGAAAGGCTTACGGTGGATACCTAGGCACCCAGAGAC...  \n",
       "338  TCTCATGGAGAGTTCGATCCTGGCTCAGGATGAACGCTGGCGGCAT...  "
      ]
     },
     "execution_count": 15,
     "metadata": {},
     "output_type": "execute_result"
    }
   ],
   "source": [
    "df_genes[df_genes['type']=='rRNA']"
   ]
  },
  {
   "cell_type": "code",
   "execution_count": 14,
   "metadata": {},
   "outputs": [],
   "source": [
    "genes = df_genes[df_genes['type'].isin(['gene','rRNA'])].groupby('gene').head(1)['gene'].to_frame().reset_index(drop=True)\n",
    "genes.gene.to_csv('Nicotiana_genes_sorted.txt',header=False,index=False)"
   ]
  }
 ],
 "metadata": {
  "kernelspec": {
   "display_name": "Python 3",
   "language": "python",
   "name": "python3"
  },
  "language_info": {
   "codemirror_mode": {
    "name": "ipython",
    "version": 3
   },
   "file_extension": ".py",
   "mimetype": "text/x-python",
   "name": "python",
   "nbconvert_exporter": "python",
   "pygments_lexer": "ipython3",
   "version": "3.8.5"
  }
 },
 "nbformat": 4,
 "nbformat_minor": 4
}
